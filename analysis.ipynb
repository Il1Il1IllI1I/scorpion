{
 "cells": [
  {
   "cell_type": "code",
   "execution_count": 1,
   "metadata": {},
   "outputs": [
    {
     "name": "stdout",
     "output_type": "stream",
     "text": [
      "        회사명  거래소코드     회계년도  매출액증가율(IFRS)  매출액순이익률(IFRS)  총자본투자효율(IFRS)  \\\n",
      "0  (주)CMG제약  58820  2010/12         11.86         -61.19           2.98   \n",
      "1  (주)CMG제약  58820  2011/12         56.40          -7.12          13.32   \n",
      "2  (주)CMG제약  58820  2012/12         -8.43         -42.40          -0.15   \n",
      "3  (주)CMG제약  58820  2013/12         25.02           1.65          12.42   \n",
      "4  (주)CMG제약  58820  2014/12         11.96           0.75          12.15   \n",
      "\n",
      "   CASH FLOW 대 부채비율(IFRS)  총자본회전률(IFRS)  \n",
      "0                  -69.69          0.46  \n",
      "1                  -45.76          0.65  \n",
      "2                   -7.76          0.38  \n",
      "3                  -38.65          0.36  \n",
      "4                  -17.44          0.40  \n",
      "<class 'pandas.core.frame.DataFrame'>\n",
      "RangeIndex: 15657 entries, 0 to 15656\n",
      "Data columns (total 8 columns):\n",
      " #   Column                  Non-Null Count  Dtype  \n",
      "---  ------                  --------------  -----  \n",
      " 0   회사명                     15657 non-null  object \n",
      " 1   거래소코드                   15657 non-null  int64  \n",
      " 2   회계년도                    15657 non-null  object \n",
      " 3   매출액증가율(IFRS)            15029 non-null  float64\n",
      " 4   매출액순이익률(IFRS)           15029 non-null  float64\n",
      " 5   총자본투자효율(IFRS)           15028 non-null  float64\n",
      " 6   CASH FLOW 대 부채비율(IFRS)  15029 non-null  float64\n",
      " 7   총자본회전률(IFRS)            15029 non-null  float64\n",
      "dtypes: float64(5), int64(1), object(2)\n",
      "memory usage: 978.7+ KB\n",
      "None\n",
      "회사명                         0\n",
      "거래소코드                       0\n",
      "회계년도                        0\n",
      "매출액증가율(IFRS)              628\n",
      "매출액순이익률(IFRS)             628\n",
      "총자본투자효율(IFRS)             629\n",
      "CASH FLOW 대 부채비율(IFRS)    628\n",
      "총자본회전률(IFRS)              628\n",
      "dtype: int64\n",
      "                    거래소코드  매출액증가율(IFRS)  매출액순이익률(IFRS)  총자본투자효율(IFRS)  \\\n",
      "회사명      회계년도                                                           \n",
      "(주)CMG제약 2010/12  58820.0         11.86         -61.19           2.98   \n",
      "         2011/12  58820.0         56.40          -7.12          13.32   \n",
      "         2012/12  58820.0         -8.43         -42.40          -0.15   \n",
      "         2013/12  58820.0         25.02           1.65          12.42   \n",
      "         2014/12  58820.0         11.96           0.75          12.15   \n",
      "\n",
      "                  CASH FLOW 대 부채비율(IFRS)  총자본회전률(IFRS)  \n",
      "회사명      회계년도                                           \n",
      "(주)CMG제약 2010/12                  -69.69          0.46  \n",
      "         2011/12                  -45.76          0.65  \n",
      "         2012/12                   -7.76          0.38  \n",
      "         2013/12                  -38.65          0.36  \n",
      "         2014/12                  -17.44          0.40  \n",
      "Ttest_indResult(statistic=2.8868564824827483, pvalue=0.00397773145176442)\n",
      "        회사명     회계년도  매출액순이익률_diff  매출액순이익률_ratio\n",
      "0  (주)CMG제약  2010/12           NaN            NaN\n",
      "1  (주)CMG제약  2011/12         54.07      -0.883641\n",
      "2  (주)CMG제약  2012/12        -35.28       4.955056\n",
      "3  (주)CMG제약  2013/12         44.05      -1.038915\n",
      "4  (주)CMG제약  2014/12         -0.90      -0.545455\n",
      "        회사명     회계년도  매출액순이익률(IFRS)  Top_10_Gap_Diff  Top_10_Gap_Ratio  \\\n",
      "0  (주)CMG제약  2010/12         -61.19      -658.036038         -0.102522   \n",
      "1  (주)CMG제약  2011/12          -7.12      -603.966038         -0.011929   \n",
      "2  (주)CMG제약  2012/12         -42.40      -639.246038         -0.071040   \n",
      "3  (주)CMG제약  2013/12           1.65      -595.196038          0.002765   \n",
      "4  (주)CMG제약  2014/12           0.75      -596.096038          0.001257   \n",
      "\n",
      "   Average_Gap_Diff  Average_Gap_Ratio  \n",
      "0         15.185897           0.801169  \n",
      "1         69.255897           0.093223  \n",
      "2         33.975897           0.555149  \n",
      "3         78.025897          -0.021604  \n",
      "4         77.125897          -0.009820  \n"
     ]
    },
    {
     "name": "stderr",
     "output_type": "stream",
     "text": [
      "C:\\Users\\USER\\AppData\\Local\\Temp\\ipykernel_5876\\84863193.py:35: FutureWarning: The default fill_method='ffill' in SeriesGroupBy.pct_change is deprecated and will be removed in a future version. Call ffill before calling pct_change to retain current behavior and silence this warning.\n",
      "  df_sorted['매출액순이익률_ratio'] = df_sorted.groupby('회사명')['매출액순이익률(IFRS)'].pct_change()\n"
     ]
    }
   ],
   "source": [
    "import pandas as pd\n",
    "from scipy import stats\n",
    "\n",
    "# 파일 불러오기 및 기본 구조 확인\n",
    "file_path = 'kosdaq_2010_1parm.csv' \n",
    "df = pd.read_csv(file_path, encoding='cp949')\n",
    "print(df.head()) # 데이터의 처음 몇 행을 출력\n",
    "\n",
    "# 기본 정보 및 결측치 확인\n",
    "print(df.info()) # 데이터의 기본 정보 출력\n",
    "print(df.isnull().sum()) # 각 컬럼별 결측치 수 확인\n",
    "\n",
    "# 회사별 재무 상태 변화 분석\n",
    "# 데이터를 회사명과 회계년도로 그룹화하여 평균값 계산\n",
    "df_grouped = df.groupby(['회사명', '회계년도']).mean()\n",
    "print(df_grouped.head()) # 결과 확인\n",
    "\n",
    "# t-test 수행\n",
    "# 2010년과 2019년 데이터를 각각 분리\n",
    "df_2010 = df[df['회계년도'] == '2010/12']\n",
    "df_2019 = df[df['회계년도'] == '2019/12']\n",
    "\n",
    "# '매출액증가율(IFRS)'에 대한 t-test 수행\n",
    "t_test_result = stats.ttest_ind(df_2010['매출액증가율(IFRS)'].dropna(), \n",
    "                                df_2019['매출액증가율(IFRS)'].dropna(), \n",
    "                                equal_var=False)\n",
    "print(t_test_result) # t-test 결과 출력\n",
    "\n",
    "# 파생변수 생성\n",
    "# 데이터를 회사명으로 정렬\n",
    "df_sorted = df.sort_values(['회사명', '회계년도'])\n",
    "\n",
    "# '매출액순이익률(IFRS)'의 연도별 차이와 비율을 계산\n",
    "df_sorted['매출액순이익률_diff'] = df_sorted.groupby('회사명')['매출액순이익률(IFRS)'].diff()\n",
    "df_sorted['매출액순이익률_ratio'] = df_sorted.groupby('회사명')['매출액순이익률(IFRS)'].pct_change()\n",
    "print(df_sorted[['회사명', '회계년도', '매출액순이익률_diff', '매출액순이익률_ratio']].head()) # 결과 확인\n",
    "\n",
    "# 상위 10개 기업 선정 및 Gap Model 변수 생성\n",
    "# '매출액순이익률(IFRS)' 기준 상위 10개 기업 추출\n",
    "top_10_companies = df_sorted.groupby('회사명')['매출액순이익률(IFRS)'].mean().sort_values(ascending=False).head(10)\n",
    "\n",
    "# 상위 10개 기업의 평균 계산\n",
    "top_10_average = top_10_companies.mean()\n",
    "\n",
    "# 산업 전체 평균 계산\n",
    "industry_average = df_sorted['매출액순이익률(IFRS)'].mean()\n",
    "\n",
    "# Gap Model 변수 생성\n",
    "df_sorted['Top_10_Gap_Diff'] = df_sorted['매출액순이익률(IFRS)'] - top_10_average\n",
    "df_sorted['Top_10_Gap_Ratio'] = df_sorted['매출액순이익률(IFRS)'] / top_10_average\n",
    "df_sorted['Average_Gap_Diff'] = df_sorted['매출액순이익률(IFRS)'] - industry_average\n",
    "df_sorted['Average_Gap_Ratio'] = df_sorted['매출액순이익률(IFRS)'] / industry_average\n",
    "print(df_sorted[['회사명', '회계년도', '매출액순이익률(IFRS)', 'Top_10_Gap_Diff', 'Top_10_Gap_Ratio', 'Average_Gap_Diff', 'Average_Gap_Ratio']].head()) # 결과 확인\n"
   ]
  },
  {
   "cell_type": "code",
   "execution_count": 2,
   "metadata": {},
   "outputs": [
    {
     "data": {
      "text/plain": [
       "set()"
      ]
     },
     "execution_count": 2,
     "metadata": {},
     "output_type": "execute_result"
    }
   ],
   "source": [
    "# 파일을 다시 불러오기\n",
    "df1_updated = pd.read_csv('kosdaq_2012_1parm.csv', encoding='cp949')\n",
    "df2_updated = pd.read_csv('kosdaq_2012_1parm_live.csv', encoding='cp949')\n",
    "\n",
    "# 각 파일에서 회사명만 추출\n",
    "companies_1_updated = set(df1_updated['회사명'])\n",
    "companies_2_updated = set(df2_updated['회사명'])\n",
    "\n",
    "# 첫 번째 파일에만 있는 회사명 추출\n",
    "unique_companies_in_1_not_in_2_updated = companies_1_updated - companies_2_updated\n",
    "\n",
    "# 결과 출력\n",
    "unique_companies_in_1_not_in_2_updated"
   ]
  },
  {
   "cell_type": "code",
   "execution_count": 6,
   "metadata": {},
   "outputs": [
    {
     "data": {
      "text/plain": [
       "(Empty DataFrame\n",
       " Columns: [회사명, 거래소코드, 회계년도, 매출액증가율(IFRS), 매출액순이익률(IFRS), 총자본투자효율(IFRS), CASH FLOW 대 부채비율(IFRS), 총자본회전률(IFRS)]\n",
       " Index: [],\n",
       " Empty DataFrame\n",
       " Columns: [회사명, 거래소코드, 회계년도, 매출액증가율(IFRS), 매출액순이익률(IFRS), 총자본투자효율(IFRS), CASH FLOW 대 부채비율(IFRS), 총자본회전률(IFRS)]\n",
       " Index: [])"
      ]
     },
     "execution_count": 6,
     "metadata": {},
     "output_type": "execute_result"
    }
   ],
   "source": [
    "# 각 CSV 파일에서 '회사명'이 '(주)맘스터치앤컴퍼니'인 행 찾기\n",
    "moms_touch_and_company_df1 = df1_updated[df1_updated['회사명'] == '(주)맘스터치앤컴퍼니']\n",
    "moms_touch_and_company_df2 = df2_updated[df2_updated['회사명'] == '(주)맘스터치앤컴퍼니']\n",
    "\n",
    "# 결과 확인\n",
    "moms_touch_and_company_df1, moms_touch_and_company_df2"
   ]
  },
  {
   "cell_type": "code",
   "execution_count": 3,
   "metadata": {},
   "outputs": [
    {
     "name": "stdout",
     "output_type": "stream",
     "text": [
      "<class 'pandas.core.frame.DataFrame'>\n",
      "RangeIndex: 804 entries, 0 to 803\n",
      "Data columns (total 8 columns):\n",
      " #   Column                  Non-Null Count  Dtype  \n",
      "---  ------                  --------------  -----  \n",
      " 0   회사명                     804 non-null    object \n",
      " 1   거래소코드                   804 non-null    int64  \n",
      " 2   회계년도                    804 non-null    object \n",
      " 3   매출액증가율(IFRS)            797 non-null    float64\n",
      " 4   매출액순이익률(IFRS)           797 non-null    float64\n",
      " 5   총자본투자효율(IFRS)           797 non-null    float64\n",
      " 6   CASH FLOW 대 부채비율(IFRS)  797 non-null    float64\n",
      " 7   총자본회전률(IFRS)            797 non-null    float64\n",
      "dtypes: float64(5), int64(1), object(2)\n",
      "memory usage: 50.4+ KB\n"
     ]
    }
   ],
   "source": [
    "df1_updated.info()"
   ]
  },
  {
   "cell_type": "code",
   "execution_count": 4,
   "metadata": {},
   "outputs": [
    {
     "name": "stdout",
     "output_type": "stream",
     "text": [
      "<class 'pandas.core.frame.DataFrame'>\n",
      "RangeIndex: 804 entries, 0 to 803\n",
      "Data columns (total 8 columns):\n",
      " #   Column                  Non-Null Count  Dtype  \n",
      "---  ------                  --------------  -----  \n",
      " 0   회사명                     804 non-null    object \n",
      " 1   거래소코드                   804 non-null    int64  \n",
      " 2   회계년도                    804 non-null    object \n",
      " 3   매출액증가율(IFRS)            797 non-null    float64\n",
      " 4   매출액순이익률(IFRS)           797 non-null    float64\n",
      " 5   총자본투자효율(IFRS)           797 non-null    float64\n",
      " 6   CASH FLOW 대 부채비율(IFRS)  797 non-null    float64\n",
      " 7   총자본회전률(IFRS)            797 non-null    float64\n",
      "dtypes: float64(5), int64(1), object(2)\n",
      "memory usage: 50.4+ KB\n"
     ]
    }
   ],
   "source": [
    "df2_updated.info()"
   ]
  }
 ],
 "metadata": {
  "kernelspec": {
   "display_name": "base",
   "language": "python",
   "name": "python3"
  },
  "language_info": {
   "codemirror_mode": {
    "name": "ipython",
    "version": 3
   },
   "file_extension": ".py",
   "mimetype": "text/x-python",
   "name": "python",
   "nbconvert_exporter": "python",
   "pygments_lexer": "ipython3",
   "version": "3.9.13"
  }
 },
 "nbformat": 4,
 "nbformat_minor": 2
}
