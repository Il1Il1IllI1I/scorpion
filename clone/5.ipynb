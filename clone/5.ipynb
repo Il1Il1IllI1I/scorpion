{
 "cells": [
  {
   "cell_type": "code",
   "execution_count": 1,
   "metadata": {},
   "outputs": [],
   "source": [
    "import pandas as pd\n",
    "import numpy as np\n",
    "\n",
    "# 데이터 로드\n",
    "df = pd.read_csv('../데이터자료/5. 이자보상배율 완료.csv', encoding='cp949')\n",
    "\n",
    "# 인덱스 재설정 및 필요한 라벨링 정보 준비\n",
    "df.reset_index(inplace=True)\n",
    "df_label = df[['index', '회사명', '거래소코드', '회계년도', '상장일', '상장폐지일', '소속코드']]\n",
    "df_label = df_label[df_label['소속코드'] == 4]\n",
    "df_label = df_label.groupby('회사명')['index'].apply(list)\n",
    "df_label = pd.DataFrame(df_label)\n",
    "\n",
    "# 상장폐지 기업에 라벨 지정\n",
    "for j in df_label.index:\n",
    "    for i in df.index:\n",
    "        if df_label[\"index\"][j][-1] == i:\n",
    "            df.loc[i, 'label'] = 1\n",
    "df['label'] = df[\"label\"].fillna(0)\n",
    "\n",
    "# 부실 기업 라벨링 및 불필요한 데이터 제거\n",
    "default = df[~df[\"상장폐지일\"].isnull()]\n",
    "drop_index = default[default['label'] == 0].index\n",
    "df.drop(drop_index, inplace=True)\n",
    "df.drop('index', axis=1, inplace=True)\n",
    "\n",
    "# 최종 데이터 저장\n",
    "df.to_csv('../데이터자료/5. label 지정 완료_리팩토링.csv', encoding='cp949', index=False)\n"
   ]
  }
 ],
 "metadata": {
  "kernelspec": {
   "display_name": "base",
   "language": "python",
   "name": "python3"
  },
  "language_info": {
   "codemirror_mode": {
    "name": "ipython",
    "version": 3
   },
   "file_extension": ".py",
   "mimetype": "text/x-python",
   "name": "python",
   "nbconvert_exporter": "python",
   "pygments_lexer": "ipython3",
   "version": "3.9.13"
  }
 },
 "nbformat": 4,
 "nbformat_minor": 2
}
