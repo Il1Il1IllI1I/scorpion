{
 "cells": [
  {
   "cell_type": "code",
   "execution_count": 1,
   "metadata": {},
   "outputs": [
    {
     "name": "stdout",
     "output_type": "stream",
     "text": [
      "        회사명  거래소코드       회계년도         상장일 상장폐지일  소속코드                 산업명  \\\n",
      "0  (주)CMG제약  58820 2011-12-01  2001-08-31   NaN     5    의료용 물질 및 의약품 제조업   \n",
      "1  (주)CMG제약  58820 2012-12-01  2001-08-31   NaN     5    의료용 물질 및 의약품 제조업   \n",
      "2  (주)CMG제약  58820 2013-12-01  2001-08-31   NaN     5    의료용 물질 및 의약품 제조업   \n",
      "3  (주)CMG제약  58820 2014-12-01  2001-08-31   NaN     5    의료용 물질 및 의약품 제조업   \n",
      "4  (주)CMG제약  58820 2015-12-01  2001-08-31   NaN     5    의료용 물질 및 의약품 제조업   \n",
      "\n",
      "   총자본증가율_x  유형자산증가율_x  비유동자산증가율_x  ...  연차  당기순이익(총포괄손익)(IFRS연결)(천원)  \\\n",
      "0      1.98      -5.90      -12.89  ...  10                -1508282.0   \n",
      "1    109.15      -4.12      -16.43  ...  11                -6660149.0   \n",
      "2     -2.09      16.09       77.05  ...  12                  296181.0   \n",
      "3      3.86      74.30       68.15  ...  13                  158039.0   \n",
      "4     -2.64      -5.37        1.66  ...  14                -3650091.0   \n",
      "\n",
      "    매출액증가율_y  유형자산증가율_y  재고자산증가율_y  비유동자산증가율_y   유동자산증가율_y      자본증가율  \\\n",
      "0  56.396905  -5.903938  -1.425061  -12.890111   17.636025  -2.015021   \n",
      "1  -8.429134  -4.123269   7.730989  -16.425977  207.077115  75.170505   \n",
      "2  25.510008  16.090388  56.292696   77.049496  -18.891239  55.100407   \n",
      "3  11.520576  74.304624   6.373738   68.150108  -25.932573   0.010946   \n",
      "4  18.851969  -5.369646  11.042187    1.658936   -7.170528  -4.480893   \n",
      "\n",
      "     총자본증가율_y     순이익증가율_y  \n",
      "0    1.977810   -78.283165  \n",
      "1  109.147119   341.571868  \n",
      "2   -2.093352  -104.447063  \n",
      "3    3.855597   -46.641074  \n",
      "4   -2.644307 -2409.614083  \n",
      "\n",
      "[5 rows x 68 columns]\n"
     ]
    }
   ],
   "source": [
    "import pandas as pd\n",
    "import numpy as np\n",
    "\n",
    "# 데이터 로드\n",
    "df = pd.read_csv('../데이터자료/2. 연결개별통합.csv')\n",
    "df_data = pd.read_csv('../데이터자료/2. 증가율데이터.csv', encoding='cp949')\n",
    "\n",
    "# 필요한 데이터만 선택\n",
    "selected_columns = ['회사명', '거래소코드', '회계년도', '매출액(수익)(*)(IFRS연결)(천원)', '유형자산(*)(IFRS연결)(천원)',\n",
    "                    '재고자산(*)(IFRS연결)(천원)', '비유동자산(*)(IFRS연결)(천원)', '유동자산(*)(IFRS연결)(천원)',\n",
    "                    '자본(*)(IFRS연결)(천원)', '자산(*)(IFRS연결)(천원)', '당기순이익(총포괄손익)(IFRS연결)(천원)']\n",
    "df_data = df_data[selected_columns]\n",
    "\n",
    "# 결측치 처리\n",
    "for col in selected_columns[3:]:\n",
    "    df_data[col] = df_data[col].fillna(0)\n",
    "\n",
    "# 증가율 계산\n",
    "increase_columns = ['매출액증가율', '유형자산증가율', '재고자산증가율', '비유동자산증가율', '유동자산증가율', '자본증가율', '총자본증가율', '순이익증가율']\n",
    "for i, col in enumerate(selected_columns[3:], start=3):\n",
    "    df_data[increase_columns[i-3]] = df_data.groupby('회사명')[col].pct_change() * 100\n",
    "\n",
    "# 결측치 처리\n",
    "df_data.fillna(0, inplace=True)\n",
    "\n",
    "# 최종 데이터 병합\n",
    "df['회계년도'] = pd.to_datetime(df['회계년도'])\n",
    "df_data['회계년도'] = pd.to_datetime(df_data['회계년도'])\n",
    "final_df = pd.merge(df, df_data, how='left', on=['회사명', '거래소코드', '회계년도'])\n",
    "\n",
    "# 컬럼 정리\n",
    "final_df.drop(selected_columns[3:-1], axis=1, inplace=True)\n",
    "\n",
    "# 최종 데이터 저장\n",
    "final_df.to_csv('../데이터자료/3. 증가율 데이터 정리끝.csv', index=False, encoding='cp949')\n",
    "\n",
    "# 결과 확인\n",
    "print(final_df.head())\n"
   ]
  }
 ],
 "metadata": {
  "kernelspec": {
   "display_name": "base",
   "language": "python",
   "name": "python3"
  },
  "language_info": {
   "codemirror_mode": {
    "name": "ipython",
    "version": 3
   },
   "file_extension": ".py",
   "mimetype": "text/x-python",
   "name": "python",
   "nbconvert_exporter": "python",
   "pygments_lexer": "ipython3",
   "version": "3.9.13"
  }
 },
 "nbformat": 4,
 "nbformat_minor": 2
}
