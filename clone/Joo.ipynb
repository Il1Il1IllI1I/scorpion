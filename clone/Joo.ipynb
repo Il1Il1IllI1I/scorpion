{
 "cells": [
  {
   "cell_type": "code",
   "execution_count": null,
   "metadata": {},
   "outputs": [],
   "source": [
    "import pandas as pd\n",
    "import numpy as np"
   ]
  },
  {
   "cell_type": "code",
   "execution_count": null,
   "metadata": {},
   "outputs": [],
   "source": [
    "df_con = pd.read_csv('../데이터자료/1. 상장폐지종목 정리끝.csv', encoding='cp949', index_col=0)\n",
    "df_invis = pd.read_csv('../데이터자료/1. 코스닥 기업 개별재무제표.csv', encoding='cp949')\n"
   ]
  },
  {
   "cell_type": "code",
   "execution_count": null,
   "metadata": {},
   "outputs": [],
   "source": [
    "df_con.columns"
   ]
  },
  {
   "cell_type": "code",
   "execution_count": null,
   "metadata": {},
   "outputs": [],
   "source": [
    "df_con = df_con[['회사명', '거래소코드', '회계년도', '상장일', '상장폐지일', '소속코드', '산업명','[제조]매출액증가율(IFRS연결)',\n",
    "'[제조]자기자본순이익률(IFRS연결)','[제조]매출액순이익률(IFRS연결)','[제조]유동비율(IFRS연결)','[제조]자기자본구성비율(IFRS연결)',\n",
    "'[제조]총자본회전률(IFRS연결)','[제조]자기자본회전률(IFRS연결)','[제조]총자본투자효율(IFRS연결)','[제조]설비투자효율(IFRS연결)',\n",
    "'[제조]순이익증가율(IFRS연결)']]"
   ]
  },
  {
   "cell_type": "code",
   "execution_count": null,
   "metadata": {},
   "outputs": [],
   "source": [
    "df_invis.columns"
   ]
  },
  {
   "cell_type": "code",
   "execution_count": null,
   "metadata": {},
   "outputs": [],
   "source": [
    "df_invis=df_invis[['회사명', '거래소코드', '회계년도', '상장일', '상장폐지일', '소속코드', '산업명','[제조]매출액증가율(IFRS)',\n",
    "'[제조]자기자본순이익률(IFRS)','[제조]매출액순이익률(IFRS)','[제조]유동비율(IFRS)','[제조]자기자본구성비율(IFRS)',\n",
    "'[제조]총자본회전률(IFRS)','[제조]자기자본회전률(IFRS)','[제조]총자본투자효율(IFRS)','[제조]설비투자효율(IFRS)',\n",
    "'[제조]순이익증가율(IFRS)']]"
   ]
  },
  {
   "cell_type": "code",
   "execution_count": null,
   "metadata": {},
   "outputs": [],
   "source": [
    "\n",
    "# 데이터 기본 정보 확인\n",
    "df_con.info()\n",
    "print(df_con.head(20))\n",
    "df_invis.info()\n",
    "print(df_invis.head(20))\n",
    "\n",
    "# 컬럼명 일치를 위한 컬럼명 변경\n",
    "df_con.columns = df_con.columns.str.replace('연결', '')\n",
    "\n",
    "# 누락된 데이터 채우기\n",
    "fill_columns = df_con.columns[df_con.columns.str.contains(\"\\[제조\\]\")]\n",
    "for col in fill_columns:\n",
    "    df_con[col] = df_con[col].fillna(df_invis[col])\n",
    "\n",
    "# 누락된 데이터가 있는 행 제거\n",
    "df_con.dropna(subset=fill_columns, inplace=True)\n",
    "\n",
    "# 상장폐지일이 존재하면서 소속코드가 5인 데이터 처리\n",
    "df_con.loc[(~df_con[\"상장폐지일\"].isnull()) & (df_con[\"소속코드\"] == 5), \"상장폐지일\"] = np.NaN\n",
    "\n",
    "# 컬럼명 간소화\n",
    "df_con.columns = df_con.columns.str.replace('[\\[제조\\]\\(\\)IFRS]', '', regex=True)\n",
    "\n",
    "# 최종 데이터 저장\n",
    "df_con.to_csv('../데이터자료/2. 연결개별통합_리팩토링.csv', index=False)"
   ]
  },
  {
   "cell_type": "code",
   "execution_count": 1,
   "metadata": {},
   "outputs": [],
   "source": [
    "import pandas as pd\n",
    "import numpy as np\n",
    "# 데이터 로드\n",
    "df_1 = pd.read_csv('../데이터자료/0. 연결재무제표.csv', encoding='cp949')\n",
    "df_2 = pd.read_csv('../데이터자료/0. 코스닥기업 연결재무제표.csv', encoding='cp949')\n"
   ]
  },
  {
   "cell_type": "code",
   "execution_count": 3,
   "metadata": {},
   "outputs": [],
   "source": [
    "df_1=df_1[['회사명', '거래소코드', '회계년도', '상장일', '상장폐지일', '소속코드', '산업명','[제조]매출액증가율(IFRS연결)',\n",
    "'[제조]자기자본순이익률(IFRS연결)','[제조]매출액순이익률(IFRS연결)','[제조]유동비율(IFRS연결)','[제조]자기자본구성비율(IFRS연결)',\n",
    "'[제조]총자본회전률(IFRS연결)','[제조]자기자본회전률(IFRS연결)','[제조]총자본투자효율(IFRS연결)','[제조]설비투자효율(IFRS연결)',\n",
    "'[제조]순이익증가율(IFRS연결)']]"
   ]
  },
  {
   "cell_type": "code",
   "execution_count": 5,
   "metadata": {},
   "outputs": [],
   "source": [
    "df_2=df_2[['회사명', '거래소코드', '회계년도', '[제조]매출액증가율(IFRS연결)',\n",
    "'[제조]자기자본순이익률(IFRS연결)','[제조]매출액순이익률(IFRS연결)','[제조]유동비율(IFRS연결)','[제조]자기자본구성비율(IFRS연결)',\n",
    "'[제조]총자본회전률(IFRS연결)','[제조]자기자본회전률(IFRS연결)','[제조]총자본투자효율(IFRS연결)','[제조]설비투자효율(IFRS연결)',\n",
    "'[제조]순이익증가율(IFRS연결)']]"
   ]
  },
  {
   "cell_type": "code",
   "execution_count": 7,
   "metadata": {},
   "outputs": [
    {
     "name": "stdout",
     "output_type": "stream",
     "text": [
      "<class 'pandas.core.frame.DataFrame'>\n",
      "RangeIndex: 14347 entries, 0 to 14346\n",
      "Data columns (total 13 columns):\n",
      " #   Column                Non-Null Count  Dtype  \n",
      "---  ------                --------------  -----  \n",
      " 0   회사명                   14347 non-null  object \n",
      " 1   거래소코드                 14347 non-null  int64  \n",
      " 2   회계년도                  14347 non-null  object \n",
      " 3   [제조]매출액증가율(IFRS연결)    9016 non-null   float64\n",
      " 4   [제조]자기자본순이익률(IFRS연결)  9016 non-null   float64\n",
      " 5   [제조]매출액순이익률(IFRS연결)   9016 non-null   float64\n",
      " 6   [제조]유동비율(IFRS연결)      9016 non-null   float64\n",
      " 7   [제조]자기자본구성비율(IFRS연결)  9016 non-null   float64\n",
      " 8   [제조]총자본회전률(IFRS연결)    9016 non-null   float64\n",
      " 9   [제조]자기자본회전률(IFRS연결)   9016 non-null   float64\n",
      " 10  [제조]총자본투자효율(IFRS연결)   9016 non-null   float64\n",
      " 11  [제조]설비투자효율(IFRS연결)    9016 non-null   float64\n",
      " 12  [제조]순이익증가율(IFRS연결)    9016 non-null   float64\n",
      "dtypes: float64(10), int64(1), object(2)\n",
      "memory usage: 1.4+ MB\n",
      "<class 'pandas.core.frame.DataFrame'>\n",
      "RangeIndex: 14347 entries, 0 to 14346\n",
      "Data columns (total 17 columns):\n",
      " #   Column                Non-Null Count  Dtype  \n",
      "---  ------                --------------  -----  \n",
      " 0   회사명                   14347 non-null  object \n",
      " 1   거래소코드                 14347 non-null  int64  \n",
      " 2   회계년도                  14347 non-null  object \n",
      " 3   상장일                   14347 non-null  object \n",
      " 4   상장폐지일                 1524 non-null   object \n",
      " 5   소속코드                  14347 non-null  int64  \n",
      " 6   산업명                   14347 non-null  object \n",
      " 7   [제조]매출액증가율(IFRS연결)    9016 non-null   float64\n",
      " 8   [제조]자기자본순이익률(IFRS연결)  9016 non-null   float64\n",
      " 9   [제조]매출액순이익률(IFRS연결)   9016 non-null   float64\n",
      " 10  [제조]유동비율(IFRS연결)      9016 non-null   float64\n",
      " 11  [제조]자기자본구성비율(IFRS연결)  9016 non-null   float64\n",
      " 12  [제조]총자본회전률(IFRS연결)    9016 non-null   float64\n",
      " 13  [제조]자기자본회전률(IFRS연결)   9016 non-null   float64\n",
      " 14  [제조]총자본투자효율(IFRS연결)   9016 non-null   float64\n",
      " 15  [제조]설비투자효율(IFRS연결)    9016 non-null   float64\n",
      " 16  [제조]순이익증가율(IFRS연결)    9016 non-null   float64\n",
      "dtypes: float64(10), int64(2), object(5)\n",
      "memory usage: 1.9+ MB\n",
      "상장폐지 기업 수: 286\n"
     ]
    },
    {
     "name": "stderr",
     "output_type": "stream",
     "text": [
      "C:\\Users\\LG\\AppData\\Local\\Temp\\ipykernel_14080\\3553973272.py:29: UserWarning: Could not infer format, so each element will be parsed individually, falling back to `dateutil`. To ensure parsing is consistent and as-expected, please specify a format.\n",
      "  df[\"회계년도\"] = pd.to_datetime(df[\"회계년도\"])\n"
     ]
    }
   ],
   "source": [
    "\n",
    "\n",
    "\n",
    "# 데이터 기본 정보 확인\n",
    "df_2.info()\n",
    "df_1.info()\n",
    "\n",
    "# 상장폐지된 데이터 필터링\n",
    "df_default = df_1[~df_1[\"상장폐지일\"].isnull()]\n",
    "print(\"상장폐지 기업 수:\", len(df_default[\"회사명\"].unique()))\n",
    "\n",
    "# 2022년도 상장폐지 데이터 처리\n",
    "df_default_2022 = df_default[df_default[\"상장폐지일\"].str.contains('2022', na=False)]\n",
    "for idx in df_default_2022.index:\n",
    "    df_default.loc[idx, \"상장폐지일\"] = np.NaN\n",
    "    df_default.loc[idx, \"소속코드\"] = 5\n",
    "\n",
    "# 상장폐지 사유 데이터 처리\n",
    "df_default_mod = pd.read_csv('../데이터자료/1. 상장폐지종목_사유등록.csv', encoding='cp949', index_col=0)\n",
    "df = pd.concat([df_1, df_default_mod[\"상장폐지사유\"]], axis=1)\n",
    "\n",
    "# 코넥스, 합병 관련 데이터 제거\n",
    "df = df[~df[\"상장폐지사유\"].str.contains('코넥스', na=False)]\n",
    "df = df[~df[\"상장폐지사유\"].str.contains('합병', na=False)]\n",
    "\n",
    "# 상장폐지 사유가 있는 데이터의 소속코드를 5로 수정\n",
    "df.loc[~df[\"상장폐지사유\"].isnull(), \"소속코드\"] = 5\n",
    "\n",
    "# 날짜 데이터 처리 및 필터링\n",
    "df[\"상장일\"] = pd.to_datetime(df['상장일'])\n",
    "df[\"상장폐지일\"] = pd.to_datetime(df['상장폐지일'])\n",
    "df[\"회계년도\"] = pd.to_datetime(df[\"회계년도\"])\n",
    "df = df[df[\"상장폐지일\"].dt.year >= 2011]\n",
    "\n",
    "# 회계년도 기준 필터링\n",
    "df[\"회계월\"] = df[\"회계년도\"].dt.month\n",
    "df = df[df[\"회계월\"] == 12]\n",
    "\n",
    "# 외국계 기업 제거\n",
    "df = df[df[\"거래소코드\"] <= 900000]\n",
    "\n",
    "# 중복 데이터 확인 및 제거\n",
    "df[\"상장년도\"] = df[\"상장일\"].dt.year\n",
    "df[\"회계년\"] = df[\"회계년도\"].dt.year\n",
    "df[\"연차\"] = df[\"회계년\"] - df[\"상장년도\"]\n",
    "df = df[df[\"연차\"] > 0]\n",
    "\n",
    "b = df[[\"회사명\", \"거래소코드\"]]\n",
    "d = b.groupby(\"회사명\")[\"거래소코드\"].unique()\n",
    "for company, codes in d.items():\n",
    "    if len(codes) > 1:\n",
    "        df = df[~df[\"거래소코드\"].isin(codes)]\n",
    "\n",
    "# 인덱스 초기화 및 최종 데이터 저장\n",
    "df.reset_index(drop=True, inplace=True)\n",
    "df.to_csv('../데이터자료/상장폐지종목 정리끝1.csv', encoding='cp949')"
   ]
  },
  {
   "cell_type": "code",
   "execution_count": null,
   "metadata": {},
   "outputs": [],
   "source": []
  }
 ],
 "metadata": {
  "kernelspec": {
   "display_name": "Python 3",
   "language": "python",
   "name": "python3"
  },
  "language_info": {
   "codemirror_mode": {
    "name": "ipython",
    "version": 3
   },
   "file_extension": ".py",
   "mimetype": "text/x-python",
   "name": "python",
   "nbconvert_exporter": "python",
   "pygments_lexer": "ipython3",
   "version": "3.11.4"
  }
 },
 "nbformat": 4,
 "nbformat_minor": 2
}
