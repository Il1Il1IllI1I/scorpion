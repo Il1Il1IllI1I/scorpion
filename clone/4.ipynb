{
 "cells": [
  {
   "cell_type": "code",
   "execution_count": 1,
   "metadata": {},
   "outputs": [
    {
     "name": "stderr",
     "output_type": "stream",
     "text": [
      "C:\\Users\\성현태\\AppData\\Local\\Temp\\ipykernel_24056\\2396729287.py:20: SettingWithCopyWarning: \n",
      "A value is trying to be set on a copy of a slice from a DataFrame.\n",
      "Try using .loc[row_indexer,col_indexer] = value instead\n",
      "\n",
      "See the caveats in the documentation: https://pandas.pydata.org/pandas-docs/stable/user_guide/indexing.html#returning-a-view-versus-a-copy\n",
      "  df_data_mod[\"회계년도\"] = pd.to_datetime(df_data_mod[\"회계년도\"])\n"
     ]
    }
   ],
   "source": [
    "import pandas as pd\n",
    "import numpy as np\n",
    "\n",
    "# 데이터 로드\n",
    "df = pd.read_csv('../데이터자료/3. 증가율 데이터 정리끝.csv', encoding='cp949')\n",
    "df_data = pd.read_csv('../데이터자료/4. 이자보상배율 데이터.csv', encoding='cp949')\n",
    "\n",
    "# 데이터 정제 및 결측치 처리\n",
    "df_data.columns = df_data.columns.str.replace(\"   \", \"\")\n",
    "df_data[\"[제조]* (정상)영업손익(보고서기재)(IFRS연결)\"].fillna(df_data[\"[제조]* (정상)영업손익(보고서기재)(IFRS)\"], inplace=True)\n",
    "df_data[\"[제조]이자비용(IFRS연결)\"].fillna(df_data[\"[제조]이자비용(IFRS)\"], inplace=True)\n",
    "\n",
    "# 이자보상배율 계산\n",
    "df_data[\"이자보상배율\"] = np.round(df_data[\"[제조]* (정상)영업손익(보고서기재)(IFRS연결)\"] / df_data[\"[제조]이자비용(IFRS연결)\"], 2)\n",
    "\n",
    "# 필요한 컬럼만 선택\n",
    "df_data_mod = df_data[[\"회사명\", \"거래소코드\", \"회계년도\", \"이자보상배율\"]]\n",
    "\n",
    "# 날짜 형식 통일\n",
    "df_data_mod[\"회계년도\"] = pd.to_datetime(df_data_mod[\"회계년도\"])\n",
    "df[\"회계년도\"] = pd.to_datetime(df[\"회계년도\"])\n",
    "\n",
    "# 데이터 병합\n",
    "merged_df = pd.merge(df, df_data_mod, how='left', on=[\"회사명\", \"거래소코드\", \"회계년도\"])\n",
    "\n",
    "# 이상치 및 무한값 처리\n",
    "def replace_outliers(row):\n",
    "    if row['상장폐지일'] is np.NaN:\n",
    "        if row['이자보상배율'] in [np.inf, -np.inf, np.NaN]:\n",
    "            return df_data_mod[df_data_mod[\"이자보상배율\"] > 0][\"이자보상배율\"].median()\n",
    "    else:\n",
    "        if row['이자보상배율'] in [np.inf, -np.inf, np.NaN]:\n",
    "            return df_data_mod[df_data_mod[\"이자보상배율\"] < 0][\"이자보상배율\"].median()\n",
    "    return row['이자보상배율']\n",
    "\n",
    "merged_df['이자보상배율'] = merged_df.apply(replace_outliers, axis=1)\n",
    "\n",
    "# 최종 데이터 저장\n",
    "merged_df.to_csv('../데이터자료/5. 이자보상배율 완료_리팩토링.csv', encoding='cp949', index=False)\n"
   ]
  }
 ],
 "metadata": {
  "kernelspec": {
   "display_name": "base",
   "language": "python",
   "name": "python3"
  },
  "language_info": {
   "codemirror_mode": {
    "name": "ipython",
    "version": 3
   },
   "file_extension": ".py",
   "mimetype": "text/x-python",
   "name": "python",
   "nbconvert_exporter": "python",
   "pygments_lexer": "ipython3",
   "version": "3.9.13"
  }
 },
 "nbformat": 4,
 "nbformat_minor": 2
}
